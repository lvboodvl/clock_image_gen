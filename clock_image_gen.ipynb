{
 "cells": [
  {
   "cell_type": "markdown",
   "metadata": {},
   "source": [
    "该程序可随机生成正常跟踪，相位瞬变、保持、正常带毛刺、相位不连续性这几种情况的时钟测试图片，图片格式为jpg，存储于/home/lvbo/clock_images/文件夹下面"
   ]
  },
  {
   "cell_type": "code",
   "execution_count": 1,
   "metadata": {},
   "outputs": [
    {
     "name": "stdout",
     "output_type": "stream",
     "text": [
      "['seaborn-poster', '_classic_test', 'seaborn-pastel', 'seaborn-dark', 'seaborn-bright', 'ggplot', 'dark_background', 'seaborn-talk', 'fivethirtyeight', 'Solarize_Light2', 'seaborn-darkgrid', 'seaborn-dark-palette', 'seaborn-whitegrid', 'seaborn-white', 'classic', 'tableau-colorblind10', 'seaborn-colorblind', 'bmh', 'fast', 'seaborn-muted', 'seaborn-paper', 'seaborn-notebook', 'seaborn-deep', 'seaborn', 'grayscale', 'seaborn-ticks']\n"
     ]
    }
   ],
   "source": [
    "%matplotlib inline\n",
    "from matplotlib import pyplot as plt\n",
    "plt.rcParams['font.sans-serif']=['SimHei'] # 用来正常显示中文标签\n",
    "plt.rcParams['axes.unicode_minus']=False # 用来正常显示负号\n",
    "from matplotlib import style\n",
    "print(plt.style.available)\n",
    "import numpy as np\n",
    "import time"
   ]
  },
  {
   "cell_type": "markdown",
   "metadata": {},
   "source": [
    "定义一个tie噪声产生的源，为了计算简单，假设符合正态分布，mu为期望，sigma为方差，num为随机噪声样本数量"
   ]
  },
  {
   "cell_type": "code",
   "execution_count": 2,
   "metadata": {},
   "outputs": [],
   "source": [
    "def tie_gen(N1, N2, N3):\n",
    "    mu = 0.1*N1\n",
    "    sigma = 0.05*N2\n",
    "    num = 100*N3\n",
    "    rand_data = np.random.normal(mu, sigma, num)\n",
    "    return rand_data"
   ]
  },
  {
   "cell_type": "markdown",
   "metadata": {},
   "source": [
    "随机生成NUM张正常跟踪的图片，图片格式为jpg，存储于normal文件夹下面"
   ]
  },
  {
   "cell_type": "code",
   "execution_count": 26,
   "metadata": {},
   "outputs": [],
   "source": [
    "plt.style.use('dark_background')\n",
    "NUM = 1000\n",
    "for k in range(NUM):\n",
    "    N1 = np.random.randint(1,100)\n",
    "    N2 = np.random.randint(1,100)\n",
    "    N3 = np.random.randint(1,100)\n",
    "    rand_data = tie_gen(N1, N2, N3)\n",
    "    plt.plot(rand_data, linewidth=1, color='y')\n",
    "#    plt.figure(facecolor='gray',edgecolor='black')\n",
    "    ratio1 = np.random.rand(1,1)\n",
    "    ratio2 = np.random.rand(1,1)\n",
    "    min_ratio = 1.0 - ratio1\n",
    "    max_ratio = 1.0 + ratio2\n",
    "    plt.grid()\n",
    "    plt.axis([-2.0,rand_data.size,min_ratio * np.min(rand_data),max_ratio * np.max(rand_data)])\n",
    "    plt.ylabel('TIE')\n",
    "    plt.xlabel('time')\n",
    "    file_name = time.strftime('%Y_%m_%d_%H_%M_%S',time.localtime(time.time()))\n",
    "    file_name = 'normal_' + file_name + str(np.random.randint(1,1000))+ '.jpg'\n",
    "    save_path = '/home/lvbo/clock_images/normal/' + file_name\n",
    "    plt.savefig(save_path)\n",
    "    plt.close()"
   ]
  },
  {
   "cell_type": "markdown",
   "metadata": {},
   "source": [
    "生成跳变噪声，命名为jump，jump点的数量可设置，这里设为一个1-23的随机数，出现跳变的位置也是随机的"
   ]
  },
  {
   "cell_type": "code",
   "execution_count": 5,
   "metadata": {},
   "outputs": [],
   "source": [
    "def jump_noise_gen(N):\n",
    "    jump_num = np.random.randint(1,40)\n",
    "    jump_inx = np.random.randint(1,N,size=jump_num)\n",
    "#    print(jump_inx)\n",
    "    jump_noise = np.random.randn(N)\n",
    "    for k in range(jump_num):\n",
    "        jump_noise[jump_inx[k]] = 100*np.random.randint(1,10)\n",
    "    return jump_noise"
   ]
  },
  {
   "cell_type": "code",
   "execution_count": 28,
   "metadata": {},
   "outputs": [],
   "source": [
    "plt.style.use('dark_background')\n",
    "NUM = 200\n",
    "for k in range(NUM):\n",
    "    N1 = np.random.randint(1,100)\n",
    "    N2 = np.random.randint(1,100)\n",
    "    N3 = np.random.randint(1,100)\n",
    "    rand_data = tie_gen(N1, N2, N3)\n",
    "    jump_noise1 = jump_noise_gen(rand_data.size)\n",
    "    jump_noise2 = jump_noise_gen(rand_data.size)\n",
    "#    rand_data = rand_data + jump_noise1\n",
    "#    rand_data = rand_data - jump_noise2\n",
    "    rand_data = rand_data + jump_noise1 - jump_noise2\n",
    "    plt.plot(rand_data, linewidth=1, color='b')\n",
    "    ratio1 = np.random.rand(1,1)\n",
    "    ratio2 = np.random.rand(1,1)\n",
    "    min_ratio = 1.0 - ratio1\n",
    "    max_ratio = 1.0 + ratio2\n",
    "    plt.grid()\n",
    "    plt.axis([-3.0,rand_data.size,min_ratio * np.min(rand_data),max_ratio * np.max(rand_data)])\n",
    "    plt.ylabel('TIE')\n",
    "    plt.xlabel('time')\n",
    "    file_name = time.strftime('%Y_%m_%d_%H_%M_%S',time.localtime(time.time()))\n",
    "    file_name = 'jump_' + file_name + str(np.random.randint(1,1000))+ '.jpg'\n",
    "    save_path = '/home/lvbo/clock_images/jump/' + file_name\n",
    "    plt.savefig(save_path)\n",
    "    plt.close()"
   ]
  },
  {
   "cell_type": "markdown",
   "metadata": {},
   "source": [
    "相位不连续性图片生成，设计了三种模式"
   ]
  },
  {
   "cell_type": "code",
   "execution_count": 29,
   "metadata": {},
   "outputs": [],
   "source": [
    "def discontinue_gen_mode1():\n",
    "    N1 = np.random.randint(1,100)\n",
    "    N2 = np.random.randint(1,100)\n",
    "    N3 = np.random.randint(1,100)\n",
    "    rand_data1 = tie_gen(N1, N2, N3)\n",
    "    N4 = np.random.randint(1,100)\n",
    "    N5 = np.random.randint(1,100)\n",
    "    N6 = np.random.randint(1,100) \n",
    "    rand_data2 = tie_gen(N4, N5, N6)\n",
    "    discontinue_gen = np.random.randn(rand_data1.size+rand_data2.size)\n",
    "    discontinue_gen[1:rand_data1.size] = rand_data1[1:rand_data1.size]\n",
    "    discontinue_gen[rand_data1.size+1:rand_data1.size+rand_data2.size] = rand_data2[1:rand_data2.size] + np.random.randint(40,60)\n",
    "    return discontinue_gen"
   ]
  },
  {
   "cell_type": "code",
   "execution_count": 30,
   "metadata": {},
   "outputs": [],
   "source": [
    "def discontinue_gen_mode2():\n",
    "    N1 = np.random.randint(1,100)\n",
    "    N2 = np.random.randint(1,100)\n",
    "    N3 = np.random.randint(1,100)\n",
    "    rand_data1 = tie_gen(N1, N2, N3)\n",
    "    N4 = np.random.randint(1,100)\n",
    "    N5 = np.random.randint(1,100)\n",
    "    N6 = np.random.randint(1,100) \n",
    "    rand_data2 = tie_gen(N4, N5, N6)\n",
    "    discontinue_gen = np.random.randn(rand_data1.size+rand_data2.size)\n",
    "    discontinue_gen[1:rand_data1.size] = rand_data1[1:rand_data1.size] + np.random.randint(40,60)\n",
    "    discontinue_gen[rand_data1.size+1:rand_data1.size+rand_data2.size] = rand_data2[1:rand_data2.size]\n",
    "    return discontinue_gen"
   ]
  },
  {
   "cell_type": "code",
   "execution_count": 12,
   "metadata": {},
   "outputs": [],
   "source": [
    "def discontinue_gen_mode3():\n",
    "    N1 = np.random.randint(1,100)\n",
    "    N2 = np.random.randint(1,100)\n",
    "    N3 = np.random.randint(1,100)\n",
    "    rand_data1 = tie_gen(N1, N2, N3)\n",
    "    N4 = np.random.randint(1,100)\n",
    "    N5 = np.random.randint(1,100)\n",
    "    N6 = np.random.randint(1,100) \n",
    "    rand_data2 = tie_gen(N4, N5, N6)\n",
    "    N7 = np.random.randint(1,100)\n",
    "    N8 = np.random.randint(1,100)\n",
    "    N9 = np.random.randint(1,100) \n",
    "    rand_data3 = tie_gen(N7, N8, N9) \n",
    "    discontinue_gen = np.random.randn(rand_data1.size+rand_data2.size+rand_data3.size)\n",
    "    discontinue_gen[1:rand_data1.size] = rand_data1[1:rand_data1.size]\n",
    "    discontinue_gen[rand_data1.size+1:rand_data1.size+rand_data2.size] = rand_data2[1:rand_data2.size] + np.random.randint(40,60)\n",
    "    discontinue_gen[rand_data1.size+rand_data2.size+1:rand_data1.size+rand_data2.size+rand_data3.size]= rand_data3[1:rand_data3.size]\n",
    "    return discontinue_gen"
   ]
  },
  {
   "cell_type": "code",
   "execution_count": 33,
   "metadata": {},
   "outputs": [],
   "source": [
    "plt.style.use('dark_background')\n",
    "NUM = 100\n",
    "for k in range(NUM):\n",
    "    rand_data = discontinue_gen_mode2()\n",
    "    plt.plot(rand_data, linewidth=1, color='y')\n",
    "    ratio1 = np.random.rand(1,1)\n",
    "    ratio2 = np.random.rand(1,1)\n",
    "    min_ratio = 1.0 - ratio1\n",
    "    max_ratio = 1.0 + ratio2\n",
    "    plt.grid()\n",
    "    plt.axis([-1.0,rand_data.size,min_ratio * np.min(rand_data),max_ratio * np.max(rand_data)])\n",
    "    plt.ylabel('TIE')\n",
    "    plt.xlabel('time')\n",
    "    file_name = time.strftime('%Y_%m_%d_%H_%M_%S',time.localtime(time.time()))\n",
    "    file_name = 'discontinuous_' + file_name + str(np.random.randint(1,1000))+ '.jpg'\n",
    "    save_path = '/home/lvbo/clock_images/discontinuous/' + file_name\n",
    "    plt.savefig(save_path)\n",
    "    plt.close()"
   ]
  },
  {
   "cell_type": "code",
   "execution_count": null,
   "metadata": {},
   "outputs": [],
   "source": [
    "相位瞬变，包含两种模式"
   ]
  },
  {
   "cell_type": "code",
   "execution_count": 18,
   "metadata": {},
   "outputs": [],
   "source": [
    "def transit_gen_mode1():\n",
    "    N1 = np.random.randint(1,100)\n",
    "    N2 = np.random.randint(1,100)\n",
    "    N3 = np.random.randint(1,100)\n",
    "    rand_data1 = tie_gen(N1, N2, N3)\n",
    "    N4 = np.random.randint(1,100)\n",
    "    N5 = np.random.randint(1,100)\n",
    "    N6 = np.random.randint(1,100) \n",
    "    rand_data2 = tie_gen(N4, N5, N6)\n",
    "    discontinue_gen = np.random.randn(rand_data1.size+rand_data2.size)\n",
    "    discontinue_gen[1:rand_data1.size] = rand_data1[1:rand_data1.size]\n",
    "    discontinue_gen[rand_data1.size+1:rand_data1.size+rand_data2.size] = rand_data2[1:rand_data2.size]\n",
    "    return discontinue_gen"
   ]
  },
  {
   "cell_type": "code",
   "execution_count": 19,
   "metadata": {},
   "outputs": [],
   "source": [
    "def transit_gen_mode2():\n",
    "    N1 = np.random.randint(1,100)\n",
    "    N2 = np.random.randint(1,100)\n",
    "    N3 = np.random.randint(1,100)\n",
    "    rand_data1 = tie_gen(N1, N2, N3)\n",
    "    N4 = np.random.randint(1,100)\n",
    "    N5 = np.random.randint(1,100)\n",
    "    N6 = np.random.randint(1,100) \n",
    "    rand_data2 = tie_gen(N4, N5, N6)\n",
    "    N7 = np.random.randint(1,100)\n",
    "    N8 = np.random.randint(1,100)\n",
    "    N9 = np.random.randint(1,100) \n",
    "    rand_data3 = tie_gen(N7, N8, N9) \n",
    "    discontinue_gen = np.random.randn(rand_data1.size+rand_data2.size+rand_data3.size)\n",
    "    discontinue_gen[1:rand_data1.size] = rand_data1[1:rand_data1.size]\n",
    "    discontinue_gen[rand_data1.size+1:rand_data1.size+rand_data2.size] = rand_data2[1:rand_data2.size]\n",
    "    discontinue_gen[rand_data1.size+rand_data2.size+1:rand_data1.size+rand_data2.size+rand_data3.size]= rand_data3[1:rand_data3.size]\n",
    "    return discontinue_gen"
   ]
  },
  {
   "cell_type": "code",
   "execution_count": 35,
   "metadata": {},
   "outputs": [],
   "source": [
    "#plt.style.use('dark_background')\n",
    "NUM = 200\n",
    "for k in range(NUM):\n",
    "    rand_data = transit_gen_mode1()\n",
    "    plt.plot(rand_data, linewidth=1, color='b')\n",
    "    ratio1 = np.random.rand(1,1)\n",
    "    ratio2 = np.random.rand(1,1)\n",
    "    min_ratio = 1.0 - ratio1\n",
    "    max_ratio = 1.0 + ratio2\n",
    "    plt.grid()\n",
    "    plt.axis([-2.0,rand_data.size,min_ratio * np.min(rand_data),max_ratio * np.max(rand_data)])\n",
    "    plt.ylabel('TIE')\n",
    "    plt.xlabel('time')\n",
    "    file_name = time.strftime('%Y_%m_%d_%H_%M_%S',time.localtime(time.time()))\n",
    "    file_name = 'transit_' + file_name + str(np.random.randint(1,1000))+ '.jpg'\n",
    "    save_path = '/home/lvbo/clock_images/transit/' + file_name\n",
    "    plt.savefig(save_path)\n",
    "    plt.close()"
   ]
  },
  {
   "cell_type": "markdown",
   "metadata": {},
   "source": [
    "频率源保持信号生成"
   ]
  },
  {
   "cell_type": "code",
   "execution_count": 22,
   "metadata": {},
   "outputs": [],
   "source": [
    "def holdover_gen(N):\n",
    "    x = np.linspace(1,N,N,dtype='float')\n",
    "    a = 20 * np.random.rand() - 10\n",
    "    b = 100 * np.random.rand() - 50\n",
    "    c = 10 * np.random.rand()\n",
    "    y = a*x**2 + b*x +c\n",
    "    return y"
   ]
  },
  {
   "cell_type": "code",
   "execution_count": 37,
   "metadata": {},
   "outputs": [],
   "source": [
    "plt.style.use('dark_background')\n",
    "NUM = 200\n",
    "for k in range(NUM):\n",
    "    N = 86400\n",
    "    rand_data = holdover_gen(N)\n",
    "    plt.plot(rand_data, linewidth=1, color='y')\n",
    "    ratio1 = np.random.rand(1,1)\n",
    "    ratio2 = np.random.rand(1,1)\n",
    "    min_ratio = 1.0 - ratio1\n",
    "    max_ratio = 1.0 + ratio2\n",
    "#    plt.grid()\n",
    "#    plt.axis([-1.0,rand_data.size,min_ratio * np.min(rand_data),max_ratio * np.max(rand_data)])\n",
    "    plt.ylabel('TIE')\n",
    "    plt.xlabel('time')\n",
    "    file_name = time.strftime('%Y_%m_%d_%H_%M_%S',time.localtime(time.time()))\n",
    "    file_name = 'holdover_' + file_name + str(np.random.randint(1,1000))+ '.jpg'\n",
    "    save_path = '/home/lvbo/clock_images/holdover/' + file_name\n",
    "    plt.savefig(save_path)\n",
    "    plt.close()"
   ]
  },
  {
   "cell_type": "code",
   "execution_count": null,
   "metadata": {},
   "outputs": [],
   "source": [
    "自由运行时钟源信号生成"
   ]
  },
  {
   "cell_type": "code",
   "execution_count": 24,
   "metadata": {},
   "outputs": [],
   "source": [
    "def freerun_gen(N):\n",
    "    x = np.linspace(1,N,N,dtype='float')\n",
    "    a = 9200 * np.random.rand() - 4600\n",
    "    b = 10 * np.random.rand()\n",
    "    y = a*x + b\n",
    "    return y"
   ]
  },
  {
   "cell_type": "code",
   "execution_count": 38,
   "metadata": {},
   "outputs": [],
   "source": [
    "plt.style.use('dark_background')\n",
    "NUM = 200\n",
    "for k in range(NUM):\n",
    "    N = 3600\n",
    "    rand_data = freerun_gen(N)\n",
    "    plt.plot(rand_data, linewidth=1, color='y')\n",
    "#    plt.grid()\n",
    "#    plt.axis([-1.0,rand_data.size,min_ratio * np.min(rand_data),max_ratio * np.max(rand_data)])\n",
    "    plt.ylabel('TIE')\n",
    "    plt.xlabel('time')\n",
    "    file_name = time.strftime('%Y_%m_%d_%H_%M_%S',time.localtime(time.time()))\n",
    "    file_name = 'freerun_' + file_name + str(np.random.randint(1,1000))+ '.jpg'\n",
    "    save_path = '/home/lvbo/clock_images/freerun/' + file_name\n",
    "    plt.savefig(save_path)\n",
    "    plt.close()"
   ]
  },
  {
   "cell_type": "code",
   "execution_count": null,
   "metadata": {},
   "outputs": [],
   "source": []
  }
 ],
 "metadata": {
  "kernelspec": {
   "display_name": "Python 3",
   "language": "python",
   "name": "python3"
  },
  "language_info": {
   "codemirror_mode": {
    "name": "ipython",
    "version": 3
   },
   "file_extension": ".py",
   "mimetype": "text/x-python",
   "name": "python",
   "nbconvert_exporter": "python",
   "pygments_lexer": "ipython3",
   "version": "3.5.2"
  }
 },
 "nbformat": 4,
 "nbformat_minor": 2
}
